{
  "nbformat": 4,
  "nbformat_minor": 0,
  "metadata": {
    "colab": {
      "name": "FPGrowthOptional.ipynb",
      "provenance": [],
      "authorship_tag": "ABX9TyPC3Tx9oH+wD21+nLNeObOi",
      "include_colab_link": true
    },
    "kernelspec": {
      "name": "python3",
      "display_name": "Python 3"
    },
    "language_info": {
      "name": "python"
    }
  },
  "cells": [
    {
      "cell_type": "markdown",
      "metadata": {
        "id": "view-in-github",
        "colab_type": "text"
      },
      "source": [
        "<a href=\"https://colab.research.google.com/github/Swathi04/OptionalAssignment1/blob/main/FPGrowthOptional.ipynb\" target=\"_parent\"><img src=\"https://colab.research.google.com/assets/colab-badge.svg\" alt=\"Open In Colab\"/></a>"
      ]
    },
    {
      "cell_type": "markdown",
      "source": [
        "#FP Growth Algorith from scratch\n",
        "Frequent Pattern Algorithm Steps:\n",
        "The frequent pattern growth method lets us find the frequent pattern without candidate generation.\n",
        "\n",
        "Let us see the steps followed to mine the frequent pattern using frequent pattern growth algorithm:\n",
        "\n",
        "1) The first step is to scan the database to find the occurrences of the itemsets in the database. This step is the same as the first step of Apriori. The count of 1-itemsets in the database is called support count or frequency of 1-itemset.\n",
        "\n",
        "2) The second step is to construct the FP tree. For this, create the root of the tree. The root is represented by null.\n",
        "\n",
        "3) The next step is to scan the database again and examine the transactions. Examine the first transaction and find out the itemset in it. The itemset with the max count is taken at the top, the next itemset with lower count and so on. It means that the branch of the tree is constructed with transaction itemsets in descending order of count.\n",
        "\n",
        "4) The next transaction in the database is examined. The itemsets are ordered in descending order of count. If any itemset of this transaction is already present in another branch (for example in the 1st transaction), then this transaction branch would share a common prefix to the root.\n",
        "\n",
        "This means that the common itemset is linked to the new node of another itemset in this transaction.\n",
        "\n",
        "5) Also, the count of the itemset is incremented as it occurs in the transactions. Both the common node and new node count is increased by 1 as they are created and linked according to transactions.\n",
        "\n",
        "6) The next step is to mine the created FP Tree. For this, the lowest node is examined first along with the links of the lowest nodes. The lowest node represents the frequency pattern length 1. From this, traverse the path in the FP Tree. This path or paths are called a conditional pattern base.\n",
        "\n",
        "Conditional pattern base is a sub-database consisting of prefix paths in the FP tree occurring with the lowest node (suffix).\n",
        "\n",
        "7) Construct a Conditional FP Tree, which is formed by a count of itemsets in the path. The itemsets meeting the threshold support are considered in the Conditional FP Tree.\n",
        "\n",
        "8) Frequent Patterns are generated from the Conditional FP Tree.\n",
        "\n",
        "SUBMITTED BY: SWATHI ANANDRAM"
      ],
      "metadata": {
        "id": "3431w4CSmh7Q"
      }
    },
    {
      "cell_type": "markdown",
      "source": [
        "##Create Tree Node class"
      ],
      "metadata": {
        "id": "dcKdDls_m7eS"
      }
    },
    {
      "cell_type": "code",
      "execution_count": 2,
      "metadata": {
        "id": "zH6FaclTkhDw"
      },
      "outputs": [],
      "source": [
        "class treeNode:\n",
        "    def __init__(self, nameValue, numOccur, parentNode):\n",
        "        self.name = nameValue\n",
        "        self.count = numOccur\n",
        "        self.nodeLink = None\n",
        "        self.parent = parentNode      #needs to be updated\n",
        "        self.children = {} \n",
        "#increments the count variable with a given amount    \n",
        "    def inc(self, numOccur):\n",
        "        self.count += numOccur\n",
        "#display tree in text. Useful for debugging        \n",
        "    def disp(self, ind=1):\n",
        "        print ('  '*ind, self.name, ' ', self.count)\n",
        "        for child in self.children.values():\n",
        "            child.disp(ind+1)"
      ]
    },
    {
      "cell_type": "code",
      "source": [
        "rootNode = treeNode('pyramid',9,None)\n",
        "rootNode.children['eye'] = treeNode('eye',13,None)\n",
        "rootNode.disp()"
      ],
      "metadata": {
        "colab": {
          "base_uri": "https://localhost:8080/"
        },
        "id": "lxu8xWKEk1Ir",
        "outputId": "0984c3ed-c356-440e-ac46-00b484d58a49"
      },
      "execution_count": 3,
      "outputs": [
        {
          "output_type": "stream",
          "name": "stdout",
          "text": [
            "   pyramid   9\n",
            "     eye   13\n"
          ]
        }
      ]
    },
    {
      "cell_type": "markdown",
      "source": [
        "##Construct FP Tree"
      ],
      "metadata": {
        "id": "u5MhGMKsnD1s"
      }
    },
    {
      "cell_type": "code",
      "source": [
        "def createTree(dataSet, minSup=1): #create FP-tree from dataset but don't mine\n",
        "    headerTable = {}\n",
        "    #go over dataSet twice\n",
        "    for trans in dataSet:#first pass counts frequency of occurance\n",
        "        for item in trans:\n",
        "            headerTable[item] = headerTable.get(item, 0) + dataSet[trans]\n",
        "    for k in list(headerTable):  #remove items not meeting minSup\n",
        "        if headerTable[k] < minSup: \n",
        "            del(headerTable[k])\n",
        "    freqItemSet = set(headerTable.keys())\n",
        "    #print 'freqItemSet: ',freqItemSet\n",
        "    if len(freqItemSet) == 0: return None, None  #if no items meet min support -->get out\n",
        "    for k in headerTable:\n",
        "        headerTable[k] = [headerTable[k], None] #reformat headerTable to use Node link \n",
        "    #print 'headerTable: ',headerTable\n",
        "    retTree = treeNode('Null Set', 1, None) #create tree\n",
        "    for tranSet, count in dataSet.items():  #go through dataset 2nd time\n",
        "        localD = {}\n",
        "        for item in tranSet:  #put transaction items in order\n",
        "            if item in freqItemSet:\n",
        "                localD[item] = headerTable[item][0]\n",
        "        if len(localD) > 0:\n",
        "            orderedItems = [v[0] for v in sorted(localD.items(), key=lambda p: p[1], reverse=True)]\n",
        "            updateTree(orderedItems, retTree, headerTable, count)#populate tree with ordered freq itemset\n",
        "    return retTree, headerTable #return tree and header table"
      ],
      "metadata": {
        "id": "L-UIBGyJk57L"
      },
      "execution_count": 4,
      "outputs": []
    },
    {
      "cell_type": "code",
      "source": [
        "def updateTree(items, inTree, headerTable, count):\n",
        "    if items[0] in inTree.children:#check if orderedItems[0] in retTree.children\n",
        "        inTree.children[items[0]].inc(count) #incrament count\n",
        "    else:   #add items[0] to inTree.children\n",
        "        inTree.children[items[0]] = treeNode(items[0], count, inTree)\n",
        "        if headerTable[items[0]][1] == None: #update header table \n",
        "            headerTable[items[0]][1] = inTree.children[items[0]]\n",
        "        else:\n",
        "            updateHeader(headerTable[items[0]][1], inTree.children[items[0]])\n",
        "    if len(items) > 1:#call updateTree() with remaining ordered items\n",
        "        updateTree(items[1::], inTree.children[items[0]], headerTable, count)"
      ],
      "metadata": {
        "id": "cYrdjS0hk9Dx"
      },
      "execution_count": 5,
      "outputs": []
    },
    {
      "cell_type": "code",
      "source": [
        "def updateHeader(nodeToTest, targetNode):   #this version does not use recursion\n",
        "    while (nodeToTest.nodeLink != None):    #Do not use recursion to traverse a linked list!\n",
        "        nodeToTest = nodeToTest.nodeLink\n",
        "    nodeToTest.nodeLink = targetNode"
      ],
      "metadata": {
        "id": "iRvITkg8k_pj"
      },
      "execution_count": 6,
      "outputs": []
    },
    {
      "cell_type": "markdown",
      "source": [
        "##Create a sample dataset to plot it on the tree"
      ],
      "metadata": {
        "id": "DFfEZwGBnK-C"
      }
    },
    {
      "cell_type": "code",
      "source": [
        "data = [['r', 'z', 'h', 'j', 'p'],\n",
        "               ['z', 'y', 'x', 'w', 'v', 'u', 't', 's'],\n",
        "               ['z'],\n",
        "               ['r', 'x', 'n', 'o', 's'],\n",
        "               ['y', 'r', 'x', 'z', 'q', 't', 'p'],\n",
        "               ['y', 'z', 'x', 'e', 'q', 's', 't', 'm']]\n",
        "data"
      ],
      "metadata": {
        "colab": {
          "base_uri": "https://localhost:8080/"
        },
        "id": "gbDp4VLqlmos",
        "outputId": "fd1e5d6e-1f49-4384-d2b8-87aef5dc2cf0"
      },
      "execution_count": 8,
      "outputs": [
        {
          "output_type": "execute_result",
          "data": {
            "text/plain": [
              "[['r', 'z', 'h', 'j', 'p'],\n",
              " ['z', 'y', 'x', 'w', 'v', 'u', 't', 's'],\n",
              " ['z'],\n",
              " ['r', 'x', 'n', 'o', 's'],\n",
              " ['y', 'r', 'x', 'z', 'q', 't', 'p'],\n",
              " ['y', 'z', 'x', 'e', 'q', 's', 't', 'm']]"
            ]
          },
          "metadata": {},
          "execution_count": 8
        }
      ]
    },
    {
      "cell_type": "code",
      "source": [
        "def createInitSet(dataSet):\n",
        "    retDict = {}\n",
        "    for trans in dataSet:\n",
        "        retDict[frozenset(trans)] = 1\n",
        "    return retDict"
      ],
      "metadata": {
        "id": "0dd-GnxKluzx"
      },
      "execution_count": 9,
      "outputs": []
    },
    {
      "cell_type": "code",
      "source": [
        "initSet = createInitSet(simpDat)\n",
        "initSet"
      ],
      "metadata": {
        "colab": {
          "base_uri": "https://localhost:8080/"
        },
        "id": "5gPnfw9plzXk",
        "outputId": "d7492074-076b-404e-fd8c-28c6cc03991b"
      },
      "execution_count": 10,
      "outputs": [
        {
          "output_type": "execute_result",
          "data": {
            "text/plain": [
              "{frozenset({'z'}): 1,\n",
              " frozenset({'h', 'j', 'p', 'r', 'z'}): 1,\n",
              " frozenset({'s', 't', 'u', 'v', 'w', 'x', 'y', 'z'}): 1,\n",
              " frozenset({'n', 'o', 'r', 's', 'x'}): 1,\n",
              " frozenset({'p', 'q', 'r', 't', 'x', 'y', 'z'}): 1,\n",
              " frozenset({'e', 'm', 'q', 's', 't', 'x', 'y', 'z'}): 1}"
            ]
          },
          "metadata": {},
          "execution_count": 10
        }
      ]
    },
    {
      "cell_type": "markdown",
      "source": [
        "##The item and its frequency count are displayed with indentation representing the depth of the tree"
      ],
      "metadata": {
        "id": "hEPOtNGWnPRH"
      }
    },
    {
      "cell_type": "code",
      "source": [
        "myFPtree, myHeaderTab = createTree(initSet, 3)"
      ],
      "metadata": {
        "id": "r7nDfyTvl4f7"
      },
      "execution_count": 11,
      "outputs": []
    },
    {
      "cell_type": "code",
      "source": [
        "myFPtree.disp()"
      ],
      "metadata": {
        "colab": {
          "base_uri": "https://localhost:8080/"
        },
        "id": "6mIzmDvGl7Xi",
        "outputId": "7205b627-d725-4742-e88f-91717783e0a2"
      },
      "execution_count": 12,
      "outputs": [
        {
          "output_type": "stream",
          "name": "stdout",
          "text": [
            "   Null Set   1\n",
            "     z   5\n",
            "       r   1\n",
            "       x   3\n",
            "         t   2\n",
            "           s   2\n",
            "             y   2\n",
            "         r   1\n",
            "           t   1\n",
            "             y   1\n",
            "     x   1\n",
            "       r   1\n",
            "         s   1\n"
          ]
        }
      ]
    }
  ]
}
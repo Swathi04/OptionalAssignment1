{
  "nbformat": 4,
  "nbformat_minor": 0,
  "metadata": {
    "colab": {
      "name": "AprioriOptionalAssignment.ipynb",
      "provenance": [],
      "collapsed_sections": [],
      "authorship_tag": "ABX9TyOVdgDu+DvkTfPWxHZdWa95",
      "include_colab_link": true
    },
    "kernelspec": {
      "name": "python3",
      "display_name": "Python 3"
    },
    "language_info": {
      "name": "python"
    }
  },
  "cells": [
    {
      "cell_type": "markdown",
      "metadata": {
        "id": "view-in-github",
        "colab_type": "text"
      },
      "source": [
        "<a href=\"https://colab.research.google.com/github/Swathi04/OptionalAssignment1/blob/main/AprioriOptionalAssignment.ipynb\" target=\"_parent\"><img src=\"https://colab.research.google.com/assets/colab-badge.svg\" alt=\"Open In Colab\"/></a>"
      ]
    },
    {
      "cell_type": "markdown",
      "source": [
        "#Apriori Algorithm from Scratch\n",
        "Apriori is an algorithm for frequent item set mining and association rule learning over relational databases. It proceeds by identifying the frequent individual items in the database and extending them to larger and larger item sets as long as those item sets appear sufficiently often in the database. The frequent item sets determined by Apriori can be used to determine association rules which highlight general trends in the database: this has applications in domains such as market basket analysis.\n",
        "\n",
        "SUBMITTED BY: SWATHI ANANDRAM"
      ],
      "metadata": {
        "id": "n3wIRKtoo_D7"
      }
    },
    {
      "cell_type": "markdown",
      "source": [
        "##CREATING DATASET TO PERFORM THE APRIORI ALGORITHM"
      ],
      "metadata": {
        "id": "Wd5GIjbGpLjz"
      }
    },
    {
      "cell_type": "markdown",
      "source": [
        "The dataset given below consists of random items I1,I2,I3,I4 and I5. Finding the set of items in our dataset."
      ],
      "metadata": {
        "id": "YcF1_b6gqnGf"
      }
    },
    {
      "cell_type": "code",
      "execution_count": null,
      "metadata": {
        "colab": {
          "base_uri": "https://localhost:8080/"
        },
        "id": "qKM2U5j9nzcg",
        "outputId": "5a6df2c7-9bdd-4e3f-e0b9-72b94786ed8f"
      },
      "outputs": [
        {
          "output_type": "stream",
          "name": "stdout",
          "text": [
            "['I1', 'I2', 'I3', 'I4', 'I5']\n"
          ]
        }
      ],
      "source": [
        "data = [\n",
        "        ['T100',['I1','I2','I5']],\n",
        "        ['T200',['I2','I4']],\n",
        "        ['T300',['I2','I3']],\n",
        "        ['T400',['I1','I2','I4']],\n",
        "        ['T500',['I1','I3']],\n",
        "        ['T600',['I2','I3']],\n",
        "        ['T700',['I1','I3']],\n",
        "        ['T800',['I1','I2','I3','I5']],\n",
        "        ['T900',['I1','I2','I3']]\n",
        "        ]\n",
        "init = []\n",
        "for i in data:\n",
        "    for q in i[1]:\n",
        "        if(q not in init):\n",
        "            init.append(q)\n",
        "init = sorted(init)\n",
        "print(init)"
      ]
    },
    {
      "cell_type": "markdown",
      "source": [
        "##SUPPORT\n",
        "Choose a value for the support. Choosing support to be 40%."
      ],
      "metadata": {
        "id": "2Xg_8etfrTqi"
      }
    },
    {
      "cell_type": "code",
      "source": [
        "sp = 0.4\n",
        "s = int(sp*len(init))\n",
        "s"
      ],
      "metadata": {
        "colab": {
          "base_uri": "https://localhost:8080/"
        },
        "id": "Bmok6-6en50z",
        "outputId": "982a78cc-bda7-41a3-ee0c-d46699d8bc94"
      },
      "execution_count": null,
      "outputs": [
        {
          "output_type": "execute_result",
          "data": {
            "text/plain": [
              "2"
            ]
          },
          "metadata": {},
          "execution_count": 2
        }
      ]
    },
    {
      "cell_type": "markdown",
      "source": [
        "##Writing APRIORI Algorithm from scratch"
      ],
      "metadata": {
        "id": "7KuyPWnprwZw"
      }
    },
    {
      "cell_type": "code",
      "source": [
        "from collections import Counter\n",
        "c = Counter()\n",
        "for i in init:\n",
        "    for d in data:\n",
        "        if(i in d[1]):\n",
        "            c[i]+=1\n",
        "print(\"C1:\")\n",
        "for i in c:\n",
        "    print(str([i])+\": \"+str(c[i]))\n",
        "print()\n",
        "l = Counter()\n",
        "for i in c:\n",
        "    if(c[i] >= s):\n",
        "        l[frozenset([i])]+=c[i]\n",
        "print(\"L1:\")\n",
        "for i in l:\n",
        "    print(str(list(i))+\": \"+str(l[i]))\n",
        "print()\n",
        "pl = l\n",
        "pos = 1\n",
        "for count in range (2,1000):\n",
        "    nc = set()\n",
        "    temp = list(l)\n",
        "    for i in range(0,len(temp)):\n",
        "        for j in range(i+1,len(temp)):\n",
        "            t = temp[i].union(temp[j])\n",
        "            if(len(t) == count):\n",
        "                nc.add(temp[i].union(temp[j]))\n",
        "    nc = list(nc)\n",
        "    c = Counter()\n",
        "    for i in nc:\n",
        "        c[i] = 0\n",
        "        for q in data:\n",
        "            temp = set(q[1])\n",
        "            if(i.issubset(temp)):\n",
        "                c[i]+=1\n",
        "    print(\"C\"+str(count)+\":\")\n",
        "    for i in c:\n",
        "        print(str(list(i))+\": \"+str(c[i]))\n",
        "    print()\n",
        "    l = Counter()\n",
        "    for i in c:\n",
        "        if(c[i] >= s):\n",
        "            l[i]+=c[i]\n",
        "    print(\"L\"+str(count)+\":\")\n",
        "    for i in l:\n",
        "        print(str(list(i))+\": \"+str(l[i]))\n",
        "    print()\n",
        "    if(len(l) == 0):\n",
        "        break\n",
        "    pl = l\n",
        "    pos = count\n",
        "print(\"Result: \")\n",
        "print(\"L\"+str(pos)+\":\")\n",
        "for i in pl:\n",
        "    print(str(list(i))+\": \"+str(pl[i]))\n",
        "print()"
      ],
      "metadata": {
        "colab": {
          "base_uri": "https://localhost:8080/"
        },
        "id": "dEJhkTd7n62A",
        "outputId": "19891ce4-6b99-4a68-b7bf-6e6d726f3faa"
      },
      "execution_count": null,
      "outputs": [
        {
          "output_type": "stream",
          "name": "stdout",
          "text": [
            "C1:\n",
            "['I1']: 6\n",
            "['I2']: 7\n",
            "['I3']: 6\n",
            "['I4']: 2\n",
            "['I5']: 2\n",
            "\n",
            "L1:\n",
            "['I1']: 6\n",
            "['I2']: 7\n",
            "['I3']: 6\n",
            "['I4']: 2\n",
            "['I5']: 2\n",
            "\n",
            "C2:\n",
            "['I5', 'I1']: 2\n",
            "['I2', 'I3']: 4\n",
            "['I5', 'I3']: 1\n",
            "['I2', 'I4']: 2\n",
            "['I5', 'I2']: 2\n",
            "['I5', 'I4']: 0\n",
            "['I3', 'I4']: 0\n",
            "['I3', 'I1']: 4\n",
            "['I2', 'I1']: 4\n",
            "['I4', 'I1']: 1\n",
            "\n",
            "L2:\n",
            "['I5', 'I1']: 2\n",
            "['I2', 'I3']: 4\n",
            "['I2', 'I4']: 2\n",
            "['I5', 'I2']: 2\n",
            "['I3', 'I1']: 4\n",
            "['I2', 'I1']: 4\n",
            "\n",
            "C3:\n",
            "['I5', 'I2', 'I1']: 2\n",
            "['I5', 'I2', 'I4']: 0\n",
            "['I2', 'I3', 'I4']: 0\n",
            "['I5', 'I2', 'I3']: 1\n",
            "['I2', 'I4', 'I1']: 1\n",
            "['I2', 'I3', 'I1']: 2\n",
            "['I5', 'I3', 'I1']: 1\n",
            "\n",
            "L3:\n",
            "['I5', 'I2', 'I1']: 2\n",
            "['I2', 'I3', 'I1']: 2\n",
            "\n",
            "C4:\n",
            "['I2', 'I5', 'I3', 'I1']: 1\n",
            "\n",
            "L4:\n",
            "\n",
            "Result: \n",
            "L3:\n",
            "['I5', 'I2', 'I1']: 2\n",
            "['I2', 'I3', 'I1']: 2\n",
            "\n"
          ]
        }
      ]
    },
    {
      "cell_type": "markdown",
      "source": [
        "##Finding the association rules for the subsets\n",
        "Also selecting the rules with the maximum support"
      ],
      "metadata": {
        "id": "ypkUzZLLr4wP"
      }
    },
    {
      "cell_type": "code",
      "source": [
        "from itertools import combinations\n",
        "count = 0\n",
        "for l in pl:\n",
        "    c = [frozenset(q) for q in combinations(l,len(l)-1)]\n",
        "    mmax = 0\n",
        "    for a in c:\n",
        "        b = l-a\n",
        "        ab = l\n",
        "        sab = 0\n",
        "        sa = 0\n",
        "        sb = 0\n",
        "        for q in data:\n",
        "            temp = set(q[1])\n",
        "            if(a.issubset(temp)):\n",
        "                sa+=1\n",
        "            if(b.issubset(temp)):\n",
        "                sb+=1\n",
        "            if(ab.issubset(temp)):\n",
        "                sab+=1\n",
        "        temp = sab/sa*100\n",
        "        if(temp > mmax):\n",
        "            mmax = temp\n",
        "        temp = sab/sb*100\n",
        "        if(temp > mmax):\n",
        "            mmax = temp\n",
        "        print(str(list(a))+\" -> \"+str(list(b))+\" = \"+str(sab/sa*100)+\"%\")\n",
        "        print(str(list(b))+\" -> \"+str(list(a))+\" = \"+str(sab/sb*100)+\"%\")\n",
        "    curr = 1\n",
        "    print(\"choosing:\", end=' ')\n",
        "    for a in c:\n",
        "        b = l-a\n",
        "        ab = l\n",
        "        sab = 0\n",
        "        sa = 0\n",
        "        sb = 0\n",
        "        for q in data:\n",
        "            temp = set(q[1])\n",
        "            if(a.issubset(temp)):\n",
        "                sa+=1\n",
        "            if(b.issubset(temp)):\n",
        "                sb+=1\n",
        "            if(ab.issubset(temp)):\n",
        "                sab+=1\n",
        "        temp = sab/sa*100\n",
        "        if(temp == mmax):\n",
        "            print(curr, end = ' ')\n",
        "        curr += 1\n",
        "        temp = sab/sb*100\n",
        "        if(temp == mmax):\n",
        "            print(curr, end = ' ')\n",
        "        curr += 1\n",
        "    print()"
      ],
      "metadata": {
        "colab": {
          "base_uri": "https://localhost:8080/"
        },
        "id": "TekFaI0Tn_1R",
        "outputId": "34dfd543-e1ad-4401-8ba9-538c736ddbc4"
      },
      "execution_count": null,
      "outputs": [
        {
          "output_type": "stream",
          "name": "stdout",
          "text": [
            "['I5', 'I2'] -> ['I1'] = 100.0%\n",
            "['I1'] -> ['I5', 'I2'] = 33.33333333333333%\n",
            "['I5', 'I1'] -> ['I2'] = 100.0%\n",
            "['I2'] -> ['I5', 'I1'] = 28.57142857142857%\n",
            "['I2', 'I1'] -> ['I5'] = 50.0%\n",
            "['I5'] -> ['I2', 'I1'] = 100.0%\n",
            "choosing: 1 3 6 \n",
            "['I2', 'I3'] -> ['I1'] = 50.0%\n",
            "['I1'] -> ['I2', 'I3'] = 33.33333333333333%\n",
            "['I2', 'I1'] -> ['I3'] = 50.0%\n",
            "['I3'] -> ['I2', 'I1'] = 33.33333333333333%\n",
            "['I3', 'I1'] -> ['I2'] = 50.0%\n",
            "['I2'] -> ['I3', 'I1'] = 28.57142857142857%\n",
            "choosing: 1 3 5 \n"
          ]
        }
      ]
    }
  ]
}